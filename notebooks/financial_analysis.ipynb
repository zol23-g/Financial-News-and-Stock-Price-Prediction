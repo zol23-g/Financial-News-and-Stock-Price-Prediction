{
 "cells": [
  {
   "cell_type": "code",
   "execution_count": 9,
   "metadata": {},
   "outputs": [
    {
     "name": "stdout",
     "output_type": "stream",
     "text": [
      "Data loaded successfully.\n",
      "<class 'pandas.core.frame.DataFrame'>\n",
      "RangeIndex: 1407328 entries, 0 to 1407327\n",
      "Data columns (total 6 columns):\n",
      " #   Column      Non-Null Count    Dtype \n",
      "---  ------      --------------    ----- \n",
      " 0   Unnamed: 0  1407328 non-null  int64 \n",
      " 1   headline    1407328 non-null  object\n",
      " 2   url         1407328 non-null  object\n",
      " 3   publisher   1407328 non-null  object\n",
      " 4   date        1407328 non-null  object\n",
      " 5   stock       1407328 non-null  object\n",
      "dtypes: int64(1), object(5)\n",
      "memory usage: 64.4+ MB\n",
      "None\n",
      "Headline Length Stats:\n",
      " count    1.407328e+06\n",
      "mean     7.312051e+01\n",
      "std      4.073531e+01\n",
      "min      3.000000e+00\n",
      "25%      4.700000e+01\n",
      "50%      6.400000e+01\n",
      "75%      8.700000e+01\n",
      "max      5.120000e+02\n",
      "Name: headline_length, dtype: float64\n",
      "Publisher Frequency:\n",
      " publisher\n",
      "Paul Quintaro                      228373\n",
      "Lisa Levin                         186979\n",
      "Benzinga Newsdesk                  150484\n",
      "Charles Gross                       96732\n",
      "Monica Gerson                       82380\n",
      "                                    ...  \n",
      "Shazir Mucklai - Imperium Group         1\n",
      "Laura Jennings                          1\n",
      "Eric Martin                             1\n",
      "Jose Rodrigo                            1\n",
      "Jeremie Capron                          1\n",
      "Name: count, Length: 1034, dtype: int64\n",
      "Sentiment Analysis Stats:\n",
      " count    1.407328e+06\n",
      "mean     4.905657e-02\n",
      "std      1.830652e-01\n",
      "min     -1.000000e+00\n",
      "25%      0.000000e+00\n",
      "50%      0.000000e+00\n",
      "75%      0.000000e+00\n",
      "max      1.000000e+00\n",
      "Name: sentiment, dtype: float64\n",
      "Top Keywords:\n",
      " ['eps' 'est' 'for' 'in' 'of' 'on' 'stocks' 'the' 'to' 'vs']\n"
     ]
    }
   ],
   "source": [
    "# Import the FinancialNewsAnalyzer class\n",
    "import sys\n",
    "import os\n",
    "sys.path.append(os.path.abspath(os.path.join(os.getcwd(), '../scripts')))\n",
    "from financial_analyzer import FinancialNewsAnalyzer\n",
    "\n",
    "# Example usage of the class\n",
    "if __name__ == \"__main__\":\n",
    "    # Initialize the analyzer with the path to your dataset\n",
    "    analyzer = FinancialNewsAnalyzer('../data/raw_analyst_ratings.csv')\n",
    "    \n",
    "    # Run the full EDA process\n",
    "    # analyzer.run_eda()\n",
    "    \n",
    "    # Alternatively, you can call individual methods as needed\n",
    "    analyzer.load_data()  # Load the data\n",
    "    analyzer.perform_descriptive_stats()  # Perform descriptive statistics\n",
    "    analyzer.perform_text_analysis()  # Perform text analysis\n",
    "    # analyzer.perform_time_series_analysis()  # Analyze time series data\n",
    "    # analyzer.perform_publisher_analysis()  # Analyze publisher data\n",
    "    # analyzer.visualize_results()  # Visualize the results\n"
   ]
  }
 ],
 "metadata": {
  "kernelspec": {
   "display_name": "venv",
   "language": "python",
   "name": "python3"
  },
  "language_info": {
   "codemirror_mode": {
    "name": "ipython",
    "version": 3
   },
   "file_extension": ".py",
   "mimetype": "text/x-python",
   "name": "python",
   "nbconvert_exporter": "python",
   "pygments_lexer": "ipython3",
   "version": "3.12.1"
  }
 },
 "nbformat": 4,
 "nbformat_minor": 2
}
